{
  "nbformat": 4,
  "nbformat_minor": 0,
  "metadata": {
    "colab": {
      "name": "Machine Learning.ipynb",
      "provenance": [],
      "authorship_tag": "ABX9TyPuJrodVLIskpMDeBTm7Dt9",
      "include_colab_link": true
    },
    "kernelspec": {
      "name": "python3",
      "display_name": "Python 3"
    },
    "language_info": {
      "name": "python"
    }
  },
  "cells": [
    {
      "cell_type": "markdown",
      "metadata": {
        "id": "view-in-github",
        "colab_type": "text"
      },
      "source": [
        "<a href=\"https://colab.research.google.com/github/Magaduzela/Data-Science-Project/blob/main/Machine_Learning_Derivco.ipynb\" target=\"_parent\"><img src=\"https://colab.research.google.com/assets/colab-badge.svg\" alt=\"Open In Colab\"/></a>"
      ]
    },
    {
      "cell_type": "code",
      "execution_count": 2,
      "metadata": {
        "colab": {
          "base_uri": "https://localhost:8080/"
        },
        "id": "uNewop9KO907",
        "outputId": "11104e1f-5eb6-4b07-a260-7955d67ce469"
      },
      "outputs": [
        {
          "output_type": "execute_result",
          "data": {
            "text/plain": [
              "['anscombe.json',\n",
              " 'README.md',\n",
              " 'test_catvnoncat.h5',\n",
              " 'train_catvnoncat.h5',\n",
              " 'california_housing_test.csv',\n",
              " 'mnist_train_small.csv',\n",
              " 'mnist_test.csv',\n",
              " 'california_housing_train.csv']"
            ]
          },
          "metadata": {},
          "execution_count": 2
        }
      ],
      "source": [
        "import os\n",
        "os.listdir('/content/sample_data')"
      ]
    },
    {
      "cell_type": "markdown",
      "source": [
        "def isEven(x):\n",
        "  return True\n",
        "  return False"
      ],
      "metadata": {
        "id": "sr9cDZaSPl_p"
      }
    },
    {
      "cell_type": "code",
      "source": [
        "def isEven(x):\n",
        "  return True\n",
        "  return False"
      ],
      "metadata": {
        "id": "5FE8u4d0RqNU"
      },
      "execution_count": 5,
      "outputs": []
    },
    {
      "cell_type": "code",
      "source": [
        "def isEven(x):\n",
        "  if x%2 ==0:\n",
        "    return True\n",
        "    return False\n",
        "\n",
        "isEven(1)"
      ],
      "metadata": {
        "id": "_DRbY6pMQoAP"
      },
      "execution_count": 8,
      "outputs": []
    },
    {
      "cell_type": "code",
      "source": [
        "import numpy as np\n",
        "import copy\n",
        "import matplotlib.pyplot as plt\n",
        "import h5py\n",
        "from PIL import Image\n",
        "\n",
        "%matplotlib inline\n",
        "%load_ext autoreload\n",
        "%autoreload 2"
      ],
      "metadata": {
        "id": "d1Qmnh0sQ_se"
      },
      "execution_count": 9,
      "outputs": []
    },
    {
      "cell_type": "code",
      "source": [
        "trainFile= h5py.File('/content/sample_data/train_catvnoncat.h5', 'r')\n",
        "testFile= h5py.File('/content/sample_data/test_catvnoncat.h5', 'r')\n",
        "\n",
        "train_x = np.array(trainFile[\"train_set_x\"][:])\n",
        "train_y = np.array(trainFile['train_set_y'][:])\n",
        "\n",
        "test_x = np.array(testFile['test_set_x'][:])\n",
        "test_y = np.array(testFile['test_set_y'][:])"
      ],
      "metadata": {
        "id": "VTwrMSG2XwAW"
      },
      "execution_count": 14,
      "outputs": []
    },
    {
      "cell_type": "code",
      "source": [
        "index = 23\n",
        "if train_y[index] ==0:\n",
        "  print(\"not cat\")\n",
        "if train_y[index] ==1:\n",
        "  print(\"cat\")\n",
        "plt.imshow(train_x[index])"
      ],
      "metadata": {
        "colab": {
          "base_uri": "https://localhost:8080/",
          "height": 303
        },
        "id": "hkhXsT2mcEZC",
        "outputId": "81785a3d-8207-4a7e-b6d5-3bcbb98a9715"
      },
      "execution_count": 17,
      "outputs": [
        {
          "output_type": "stream",
          "name": "stdout",
          "text": [
            "not cat\n"
          ]
        },
        {
          "output_type": "execute_result",
          "data": {
            "text/plain": [
              "<matplotlib.image.AxesImage at 0x7f1c4bcffad0>"
            ]
          },
          "metadata": {},
          "execution_count": 17
        },
        {
          "output_type": "display_data",
          "data": {
            "text/plain": [
              "<Figure size 432x288 with 1 Axes>"
            ],
            "image/png": "[encoded data removed]"
          },
          "metadata": {
            "needs_background": "light"
          }
        }
      ]
    },
    {
      "cell_type": "code",
      "source": [
        "from matplotlib import test\n",
        "m_train = train_x.shape[0]\n",
        "m_test = test_x.shape[0]\n",
        "num_px = train_x.shape[1]\n",
        "\n",
        "train_set_x_flatten = train_x.reshape(m_train, -1)\n",
        "test_set_x_flatten = test_x.reshape(m_test, -1)\n",
        "\n",
        "train_set_x = train_set_x_flatten/255\n",
        "test_set_x = test_set_x_flatten/255\n",
        "\n",
        "train_set_y = train_y.reshape(m_train, 1)\n",
        "test_set_y = test_y.reshape(m_test, 1)\n"
      ],
      "metadata": {
        "id": "TETDwtTieYQg"
      },
      "execution_count": 19,
      "outputs": []
    },
    {
      "cell_type": "code",
      "source": [
        "print(\"m_train\", m_train)\n",
        "print(\"m_test\", m_test)\n",
        "print(\"num_px\", num_px)\n",
        "\n",
        "print(\"train_set_x.shape\", train_set_x.shape)\n",
        "\n",
        "print(\"train_set_y.shape\", train_set_y.shape)\n"
      ],
      "metadata": {
        "colab": {
          "base_uri": "https://localhost:8080/"
        },
        "id": "GkDLqfN0imCx",
        "outputId": "09b1cea0-3068-40e2-a4f1-ca7d2888daee"
      },
      "execution_count": 21,
      "outputs": [
        {
          "output_type": "stream",
          "name": "stdout",
          "text": [
            "m_train 209\n",
            "m_test 50\n",
            "num_px 64\n",
            "train_set_x.shape (209, 12288)\n",
            "train_set_y.shape (209, 1)\n"
          ]
        }
      ]
    },
    {
      "cell_type": "code",
      "source": [
        ""
      ],
      "metadata": {
        "id": "Wrz20pdSj9WN"
      },
      "execution_count": null,
      "outputs": []
    }
  ]
}